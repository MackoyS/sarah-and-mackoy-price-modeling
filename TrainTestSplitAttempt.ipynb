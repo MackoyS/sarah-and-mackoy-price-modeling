{
 "cells": [
  {
   "cell_type": "code",
   "execution_count": 1,
   "metadata": {},
   "outputs": [],
   "source": [
    "#importing libraries \n",
    "import pandas as pd\n",
    "import numpy as np\n",
    "from matplotlib import pyplot as plt\n",
    "import seaborn as sns\n",
    "from sklearn import metrics\n",
    "from sklearn.preprocessing import OneHotEncoder, StandardScaler\n",
    "from sklearn.linear_model import LinearRegression\n",
    "import statsmodels.api as sm\n",
    "from statsmodels.formula.api import ols\n",
    "from scipy import stats\n",
    "from sklearn.linear_model import LinearRegression\n",
    "from sklearn import tree\n",
    "from sklearn.model_selection import train_test_split\n",
    "from sklearn.tree import DecisionTreeRegressor\n",
    "\n"
   ]
  },
  {
   "cell_type": "code",
   "execution_count": 2,
   "metadata": {},
   "outputs": [
    {
     "data": {
      "text/html": [
       "<div>\n",
       "<style scoped>\n",
       "    .dataframe tbody tr th:only-of-type {\n",
       "        vertical-align: middle;\n",
       "    }\n",
       "\n",
       "    .dataframe tbody tr th {\n",
       "        vertical-align: top;\n",
       "    }\n",
       "\n",
       "    .dataframe thead th {\n",
       "        text-align: right;\n",
       "    }\n",
       "</style>\n",
       "<table border=\"1\" class=\"dataframe\">\n",
       "  <thead>\n",
       "    <tr style=\"text-align: right;\">\n",
       "      <th></th>\n",
       "      <th>id</th>\n",
       "      <th>date</th>\n",
       "      <th>price</th>\n",
       "      <th>bedrooms</th>\n",
       "      <th>bathrooms</th>\n",
       "      <th>sqft_living</th>\n",
       "      <th>sqft_lot</th>\n",
       "      <th>floors</th>\n",
       "      <th>waterfront</th>\n",
       "      <th>view</th>\n",
       "      <th>...</th>\n",
       "      <th>grade</th>\n",
       "      <th>sqft_above</th>\n",
       "      <th>sqft_basement</th>\n",
       "      <th>yr_built</th>\n",
       "      <th>yr_renovated</th>\n",
       "      <th>zipcode</th>\n",
       "      <th>lat</th>\n",
       "      <th>long</th>\n",
       "      <th>sqft_living15</th>\n",
       "      <th>sqft_lot15</th>\n",
       "    </tr>\n",
       "  </thead>\n",
       "  <tbody>\n",
       "    <tr>\n",
       "      <th>0</th>\n",
       "      <td>7129300520</td>\n",
       "      <td>10/13/2014</td>\n",
       "      <td>221900.0</td>\n",
       "      <td>3</td>\n",
       "      <td>1.00</td>\n",
       "      <td>1180</td>\n",
       "      <td>5650</td>\n",
       "      <td>1.0</td>\n",
       "      <td>NaN</td>\n",
       "      <td>NONE</td>\n",
       "      <td>...</td>\n",
       "      <td>7 Average</td>\n",
       "      <td>1180</td>\n",
       "      <td>0.0</td>\n",
       "      <td>1955</td>\n",
       "      <td>0.0</td>\n",
       "      <td>98178</td>\n",
       "      <td>47.5112</td>\n",
       "      <td>-122.257</td>\n",
       "      <td>1340</td>\n",
       "      <td>5650</td>\n",
       "    </tr>\n",
       "    <tr>\n",
       "      <th>1</th>\n",
       "      <td>6414100192</td>\n",
       "      <td>12/9/2014</td>\n",
       "      <td>538000.0</td>\n",
       "      <td>3</td>\n",
       "      <td>2.25</td>\n",
       "      <td>2570</td>\n",
       "      <td>7242</td>\n",
       "      <td>2.0</td>\n",
       "      <td>NO</td>\n",
       "      <td>NONE</td>\n",
       "      <td>...</td>\n",
       "      <td>7 Average</td>\n",
       "      <td>2170</td>\n",
       "      <td>400.0</td>\n",
       "      <td>1951</td>\n",
       "      <td>1991.0</td>\n",
       "      <td>98125</td>\n",
       "      <td>47.7210</td>\n",
       "      <td>-122.319</td>\n",
       "      <td>1690</td>\n",
       "      <td>7639</td>\n",
       "    </tr>\n",
       "    <tr>\n",
       "      <th>2</th>\n",
       "      <td>5631500400</td>\n",
       "      <td>2/25/2015</td>\n",
       "      <td>180000.0</td>\n",
       "      <td>2</td>\n",
       "      <td>1.00</td>\n",
       "      <td>770</td>\n",
       "      <td>10000</td>\n",
       "      <td>1.0</td>\n",
       "      <td>NO</td>\n",
       "      <td>NONE</td>\n",
       "      <td>...</td>\n",
       "      <td>6 Low Average</td>\n",
       "      <td>770</td>\n",
       "      <td>0.0</td>\n",
       "      <td>1933</td>\n",
       "      <td>NaN</td>\n",
       "      <td>98028</td>\n",
       "      <td>47.7379</td>\n",
       "      <td>-122.233</td>\n",
       "      <td>2720</td>\n",
       "      <td>8062</td>\n",
       "    </tr>\n",
       "    <tr>\n",
       "      <th>3</th>\n",
       "      <td>2487200875</td>\n",
       "      <td>12/9/2014</td>\n",
       "      <td>604000.0</td>\n",
       "      <td>4</td>\n",
       "      <td>3.00</td>\n",
       "      <td>1960</td>\n",
       "      <td>5000</td>\n",
       "      <td>1.0</td>\n",
       "      <td>NO</td>\n",
       "      <td>NONE</td>\n",
       "      <td>...</td>\n",
       "      <td>7 Average</td>\n",
       "      <td>1050</td>\n",
       "      <td>910.0</td>\n",
       "      <td>1965</td>\n",
       "      <td>0.0</td>\n",
       "      <td>98136</td>\n",
       "      <td>47.5208</td>\n",
       "      <td>-122.393</td>\n",
       "      <td>1360</td>\n",
       "      <td>5000</td>\n",
       "    </tr>\n",
       "    <tr>\n",
       "      <th>4</th>\n",
       "      <td>1954400510</td>\n",
       "      <td>2/18/2015</td>\n",
       "      <td>510000.0</td>\n",
       "      <td>3</td>\n",
       "      <td>2.00</td>\n",
       "      <td>1680</td>\n",
       "      <td>8080</td>\n",
       "      <td>1.0</td>\n",
       "      <td>NO</td>\n",
       "      <td>NONE</td>\n",
       "      <td>...</td>\n",
       "      <td>8 Good</td>\n",
       "      <td>1680</td>\n",
       "      <td>0.0</td>\n",
       "      <td>1987</td>\n",
       "      <td>0.0</td>\n",
       "      <td>98074</td>\n",
       "      <td>47.6168</td>\n",
       "      <td>-122.045</td>\n",
       "      <td>1800</td>\n",
       "      <td>7503</td>\n",
       "    </tr>\n",
       "  </tbody>\n",
       "</table>\n",
       "<p>5 rows × 21 columns</p>\n",
       "</div>"
      ],
      "text/plain": [
       "           id        date     price  bedrooms  bathrooms  sqft_living  \\\n",
       "0  7129300520  10/13/2014  221900.0         3       1.00         1180   \n",
       "1  6414100192   12/9/2014  538000.0         3       2.25         2570   \n",
       "2  5631500400   2/25/2015  180000.0         2       1.00          770   \n",
       "3  2487200875   12/9/2014  604000.0         4       3.00         1960   \n",
       "4  1954400510   2/18/2015  510000.0         3       2.00         1680   \n",
       "\n",
       "   sqft_lot  floors waterfront  view  ...          grade sqft_above  \\\n",
       "0      5650     1.0        NaN  NONE  ...      7 Average       1180   \n",
       "1      7242     2.0         NO  NONE  ...      7 Average       2170   \n",
       "2     10000     1.0         NO  NONE  ...  6 Low Average        770   \n",
       "3      5000     1.0         NO  NONE  ...      7 Average       1050   \n",
       "4      8080     1.0         NO  NONE  ...         8 Good       1680   \n",
       "\n",
       "   sqft_basement yr_built  yr_renovated  zipcode      lat     long  \\\n",
       "0            0.0     1955           0.0    98178  47.5112 -122.257   \n",
       "1          400.0     1951        1991.0    98125  47.7210 -122.319   \n",
       "2            0.0     1933           NaN    98028  47.7379 -122.233   \n",
       "3          910.0     1965           0.0    98136  47.5208 -122.393   \n",
       "4            0.0     1987           0.0    98074  47.6168 -122.045   \n",
       "\n",
       "   sqft_living15  sqft_lot15  \n",
       "0           1340        5650  \n",
       "1           1690        7639  \n",
       "2           2720        8062  \n",
       "3           1360        5000  \n",
       "4           1800        7503  \n",
       "\n",
       "[5 rows x 21 columns]"
      ]
     },
     "execution_count": 2,
     "metadata": {},
     "output_type": "execute_result"
    }
   ],
   "source": [
    "#read in data\n",
    "data = pd.read_csv('data/kc_house_data.csv')\n",
    "data.head()"
   ]
  },
  {
   "cell_type": "code",
   "execution_count": 3,
   "metadata": {},
   "outputs": [
    {
     "name": "stdout",
     "output_type": "stream",
     "text": [
      "<class 'pandas.core.frame.DataFrame'>\n",
      "RangeIndex: 21597 entries, 0 to 21596\n",
      "Data columns (total 15 columns):\n",
      " #   Column          Non-Null Count  Dtype  \n",
      "---  ------          --------------  -----  \n",
      " 0   id              21597 non-null  int64  \n",
      " 1   price           21597 non-null  float64\n",
      " 2   bedrooms        21597 non-null  int64  \n",
      " 3   bathrooms       21597 non-null  float64\n",
      " 4   sqft_living     21597 non-null  int64  \n",
      " 5   sqft_lot        21597 non-null  int64  \n",
      " 6   floors          21597 non-null  float64\n",
      " 7   sqft_above      21597 non-null  int64  \n",
      " 8   sqft_living15   21597 non-null  int64  \n",
      " 9   sqft_lot15      21597 non-null  int64  \n",
      " 10  grade_num       21597 non-null  object \n",
      " 11  bed_bath_ratio  21597 non-null  float64\n",
      " 12  zip_city        21597 non-null  int64  \n",
      " 13  Waterfront      21597 non-null  uint8  \n",
      " 14  mean_price      21597 non-null  float64\n",
      "dtypes: float64(5), int64(8), object(1), uint8(1)\n",
      "memory usage: 2.3+ MB\n"
     ]
    }
   ],
   "source": [
    "#data cleaning\n",
    "# lets start cleaning! get your mop & broom! \n",
    "\n",
    "#make a copy of the dataset, we never want to overwrite our OG data \n",
    "df = data.copy()\n",
    "# pull out grade code \n",
    "df['grade_num'] = data['grade'].map(lambda x:x.split(' ', 1)[0])\n",
    "#bed bath ratio \n",
    "df['bed_bath_ratio'] = df['bedrooms']/df['bathrooms']\n",
    "#dropping unnecessary columns: give reasons for why \n",
    "df = df.drop(columns = ['sqft_basement', 'yr_renovated', 'lat', 'long', 'view', 'condition','grade', 'date'])\n",
    "\n",
    "\n",
    "#let's dummy variable for city --> 1 for in city of seatlle, 0 for outside of city limits \n",
    "#creating a list of zipcodes thar are IN the city limits of seatlle\n",
    "zip_city_list = [98101, 98177, 98133, 98155, 98125, 98117, 98103, 98107, 98105, 98195, 98199, 98119, 98109, 98102, 98112, 98121, 98122, 98104, 98134, 98144, 98136, 98126, 98106, 98108, 98118, 98146, 98178]\n",
    "#if it is within our city limits give it a 1,without give it 0 \n",
    "df['zip_city'] = np.where(df['zipcode'].isin(zip_city_list),1,0)\n",
    "\n",
    "\n",
    "\n",
    "#let's dummy waterfront \n",
    "# assumotion: ATM it's that it's unknown \n",
    "    #NaN meaning?--> express this as a % of missing --> report this as a data limitation; llimitations might be that some of the nans might have unreported waterfronts, based off this analyssis we will do --> we could do a ttest with a random sample of Nans and see how mnay of them do have a water front --> we have this % certainty that these nans are nos\n",
    "df['waterfront'] = df['waterfront'].fillna(\"Unknown\")\n",
    "#getting dummy variables for waterfront 0= no water, 1 = yes\n",
    "df1 = pd.get_dummies(df['waterfront'])\n",
    "#adding dummies into a main dataframe \n",
    "main_df = pd.concat([df, df1], axis=1)\n",
    "#cleaning up the columns so that we have a cleam copy\n",
    "main_df['Waterfront'] = main_df['YES'].copy()\n",
    "#dropping unneeded columns \n",
    "main_df = main_df.drop(columns = ['NO', 'Unknown', 'YES', 'waterfront', 'zipcode', 'yr_built'])\n",
    "#store the mean of price because that is the best predictor \n",
    "mean_price = main_df['price'].mean()\n",
    "main_df['mean_price'] = main_df['price'].mean()\n",
    "\n",
    "main_df.info()"
   ]
  },
  {
   "cell_type": "code",
   "execution_count": 4,
   "metadata": {},
   "outputs": [
    {
     "name": "stdout",
     "output_type": "stream",
     "text": [
      "<class 'pandas.core.frame.DataFrame'>\n",
      "Int64Index: 19479 entries, 0 to 21596\n",
      "Data columns (total 12 columns):\n",
      " #   Column          Non-Null Count  Dtype  \n",
      "---  ------          --------------  -----  \n",
      " 0   price           19479 non-null  float64\n",
      " 1   bedrooms        19479 non-null  float64\n",
      " 2   bathrooms       19479 non-null  float64\n",
      " 3   sqft_living     19479 non-null  float64\n",
      " 4   sqft_lot        19479 non-null  float64\n",
      " 5   floors          19479 non-null  float64\n",
      " 6   sqft_above      19479 non-null  float64\n",
      " 7   sqft_living15   19479 non-null  float64\n",
      " 8   sqft_lot15      19479 non-null  float64\n",
      " 9   grade_num       19479 non-null  float64\n",
      " 10  bed_bath_ratio  19479 non-null  float64\n",
      " 11  mean_price      19479 non-null  float64\n",
      "dtypes: float64(12)\n",
      "memory usage: 1.9 MB\n"
     ]
    }
   ],
   "source": [
    "#remove outliers\n",
    "\n",
    "#make a copy of the clean dataframe \n",
    "no_out = main_df.copy()\n",
    "\n",
    "#drop columns that we cannot use \n",
    "no_out = no_out.drop(columns= ['id', 'zip_city', 'Waterfront'], axis=1)\n",
    "\n",
    "#change data type so that we can math \n",
    "no_out = no_out.astype('float')\n",
    "\n",
    "#pull out the columns \n",
    "columns = no_out.columns\n",
    "\n",
    "#for each column in the dataframe, get the mean and standard deviation \n",
    "#then get the z-score for within 3 standard devaitions\n",
    "for col in columns:\n",
    "        \n",
    "        mean = no_out[col].mean()\n",
    "        sd = no_out[col].std()\n",
    "        \n",
    "        no_out = no_out[(no_out[col] <= mean+(3*sd))]\n",
    "        \n",
    "pd.set_option('display.float_format', lambda x: '%.5f' % x)\n",
    "no_out.info()\n",
    "\n",
    "\n",
    "#part of this loop is courtesy of Stephen Allwright \n",
    "\n",
    "#https://stephenallwright.com/remove-outliers-pandas/"
   ]
  },
  {
   "cell_type": "code",
   "execution_count": 5,
   "metadata": {},
   "outputs": [
    {
     "name": "stdout",
     "output_type": "stream",
     "text": [
      "<class 'pandas.core.frame.DataFrame'>\n",
      "Int64Index: 19479 entries, 0 to 21596\n",
      "Data columns (total 15 columns):\n",
      " #   Column          Non-Null Count  Dtype  \n",
      "---  ------          --------------  -----  \n",
      " 0   price           19479 non-null  float64\n",
      " 1   bedrooms        19479 non-null  float64\n",
      " 2   bathrooms       19479 non-null  float64\n",
      " 3   sqft_living     19479 non-null  float64\n",
      " 4   sqft_lot        19479 non-null  float64\n",
      " 5   floors          19479 non-null  float64\n",
      " 6   sqft_above      19479 non-null  float64\n",
      " 7   sqft_living15   19479 non-null  float64\n",
      " 8   sqft_lot15      19479 non-null  float64\n",
      " 9   grade_num       19479 non-null  float64\n",
      " 10  bed_bath_ratio  19479 non-null  float64\n",
      " 11  mean_price      19479 non-null  float64\n",
      " 12  id              19479 non-null  int64  \n",
      " 13  zip_city        19479 non-null  int64  \n",
      " 14  Waterfront      19479 non-null  uint8  \n",
      "dtypes: float64(12), int64(2), uint8(1)\n",
      "memory usage: 2.2 MB\n"
     ]
    }
   ],
   "source": [
    "#add the no_out data back into the full clean dataframe \n",
    "\n",
    "not_out = main_df.copy()\n",
    "\n",
    "#drop the columns that we have cleaned for outliers \n",
    "not_out = not_out.drop(columns= ['price', 'bedrooms', 'bathrooms', 'sqft_living', 'sqft_lot', 'floors', 'sqft_above', 'sqft_living15', 'sqft_lot15', 'grade_num', 'bed_bath_ratio','mean_price'], axis=1)\n",
    "\n",
    "#add the outliers & no-outlier data frames together so that we have all our columns again \n",
    "\n",
    "#we could have done a merge here (left right or inner)\n",
    "clean_df = pd.concat([no_out, not_out], axis=1)\n",
    "\n",
    "#drop the null values (for the columns that we did not do the outlier math on )\n",
    "clean_df = clean_df.dropna()\n",
    "\n",
    "#check to make sure that we have all our columns with the same amount of data\n",
    "clean_df.info()\n",
    "\n",
    "#store our cleaned data as a csv file for future use\n",
    "clean_df.to_csv('clean_df.csv')"
   ]
  },
  {
   "cell_type": "code",
   "execution_count": 6,
   "metadata": {},
   "outputs": [
    {
     "data": {
      "text/html": [
       "<div>\n",
       "<style scoped>\n",
       "    .dataframe tbody tr th:only-of-type {\n",
       "        vertical-align: middle;\n",
       "    }\n",
       "\n",
       "    .dataframe tbody tr th {\n",
       "        vertical-align: top;\n",
       "    }\n",
       "\n",
       "    .dataframe thead th {\n",
       "        text-align: right;\n",
       "    }\n",
       "</style>\n",
       "<table border=\"1\" class=\"dataframe\">\n",
       "  <thead>\n",
       "    <tr style=\"text-align: right;\">\n",
       "      <th></th>\n",
       "      <th>price</th>\n",
       "      <th>bedrooms</th>\n",
       "      <th>bathrooms</th>\n",
       "      <th>sqft_living</th>\n",
       "      <th>sqft_lot</th>\n",
       "      <th>floors</th>\n",
       "      <th>sqft_above</th>\n",
       "      <th>sqft_living15</th>\n",
       "      <th>sqft_lot15</th>\n",
       "      <th>grade_num</th>\n",
       "      <th>bed_bath_ratio</th>\n",
       "      <th>mean_price</th>\n",
       "      <th>id</th>\n",
       "      <th>zip_city</th>\n",
       "      <th>Waterfront</th>\n",
       "    </tr>\n",
       "  </thead>\n",
       "  <tbody>\n",
       "    <tr>\n",
       "      <th>0</th>\n",
       "      <td>-1.11572</td>\n",
       "      <td>-0.35178</td>\n",
       "      <td>-1.55982</td>\n",
       "      <td>-1.06182</td>\n",
       "      <td>-0.38158</td>\n",
       "      <td>-0.87574</td>\n",
       "      <td>-0.73923</td>\n",
       "      <td>-0.97564</td>\n",
       "      <td>-0.42036</td>\n",
       "      <td>-0.53006</td>\n",
       "      <td>2.24346</td>\n",
       "      <td>0.00000</td>\n",
       "      <td>0.85470</td>\n",
       "      <td>1.39436</td>\n",
       "      <td>-0.05696</td>\n",
       "    </tr>\n",
       "    <tr>\n",
       "      <th>1</th>\n",
       "      <td>0.20606</td>\n",
       "      <td>-0.35178</td>\n",
       "      <td>0.28724</td>\n",
       "      <td>0.85057</td>\n",
       "      <td>-0.22479</td>\n",
       "      <td>0.97252</td>\n",
       "      <td>0.73756</td>\n",
       "      <td>-0.37210</td>\n",
       "      <td>-0.14983</td>\n",
       "      <td>-0.53006</td>\n",
       "      <td>-0.70765</td>\n",
       "      <td>0.00000</td>\n",
       "      <td>0.60609</td>\n",
       "      <td>1.39436</td>\n",
       "      <td>-0.05696</td>\n",
       "    </tr>\n",
       "    <tr>\n",
       "      <th>2</th>\n",
       "      <td>-1.29093</td>\n",
       "      <td>-1.52070</td>\n",
       "      <td>-1.55982</td>\n",
       "      <td>-1.62591</td>\n",
       "      <td>0.04682</td>\n",
       "      <td>-0.87574</td>\n",
       "      <td>-1.35083</td>\n",
       "      <td>1.40403</td>\n",
       "      <td>-0.09230</td>\n",
       "      <td>-1.53621</td>\n",
       "      <td>0.47280</td>\n",
       "      <td>0.00000</td>\n",
       "      <td>0.33406</td>\n",
       "      <td>-0.71718</td>\n",
       "      <td>-0.05696</td>\n",
       "    </tr>\n",
       "    <tr>\n",
       "      <th>3</th>\n",
       "      <td>0.48204</td>\n",
       "      <td>0.81715</td>\n",
       "      <td>1.39548</td>\n",
       "      <td>0.01132</td>\n",
       "      <td>-0.44559</td>\n",
       "      <td>-0.87574</td>\n",
       "      <td>-0.93315</td>\n",
       "      <td>-0.94115</td>\n",
       "      <td>-0.50876</td>\n",
       "      <td>-0.53006</td>\n",
       "      <td>-0.70765</td>\n",
       "      <td>0.00000</td>\n",
       "      <td>-0.75892</td>\n",
       "      <td>1.39436</td>\n",
       "      <td>-0.05696</td>\n",
       "    </tr>\n",
       "    <tr>\n",
       "      <th>4</th>\n",
       "      <td>0.08897</td>\n",
       "      <td>-0.35178</td>\n",
       "      <td>-0.08217</td>\n",
       "      <td>-0.37391</td>\n",
       "      <td>-0.14227</td>\n",
       "      <td>-0.87574</td>\n",
       "      <td>0.00662</td>\n",
       "      <td>-0.18242</td>\n",
       "      <td>-0.16833</td>\n",
       "      <td>0.47608</td>\n",
       "      <td>-0.41254</td>\n",
       "      <td>0.00000</td>\n",
       "      <td>-0.94412</td>\n",
       "      <td>-0.71718</td>\n",
       "      <td>-0.05696</td>\n",
       "    </tr>\n",
       "  </tbody>\n",
       "</table>\n",
       "</div>"
      ],
      "text/plain": [
       "     price  bedrooms  bathrooms  sqft_living  sqft_lot   floors  sqft_above  \\\n",
       "0 -1.11572  -0.35178   -1.55982     -1.06182  -0.38158 -0.87574    -0.73923   \n",
       "1  0.20606  -0.35178    0.28724      0.85057  -0.22479  0.97252     0.73756   \n",
       "2 -1.29093  -1.52070   -1.55982     -1.62591   0.04682 -0.87574    -1.35083   \n",
       "3  0.48204   0.81715    1.39548      0.01132  -0.44559 -0.87574    -0.93315   \n",
       "4  0.08897  -0.35178   -0.08217     -0.37391  -0.14227 -0.87574     0.00662   \n",
       "\n",
       "   sqft_living15  sqft_lot15  grade_num  bed_bath_ratio  mean_price       id  \\\n",
       "0       -0.97564    -0.42036   -0.53006         2.24346     0.00000  0.85470   \n",
       "1       -0.37210    -0.14983   -0.53006        -0.70765     0.00000  0.60609   \n",
       "2        1.40403    -0.09230   -1.53621         0.47280     0.00000  0.33406   \n",
       "3       -0.94115    -0.50876   -0.53006        -0.70765     0.00000 -0.75892   \n",
       "4       -0.18242    -0.16833    0.47608        -0.41254     0.00000 -0.94412   \n",
       "\n",
       "   zip_city  Waterfront  \n",
       "0   1.39436    -0.05696  \n",
       "1   1.39436    -0.05696  \n",
       "2  -0.71718    -0.05696  \n",
       "3   1.39436    -0.05696  \n",
       "4  -0.71718    -0.05696  "
      ]
     },
     "execution_count": 6,
     "metadata": {},
     "output_type": "execute_result"
    }
   ],
   "source": [
    "#scale the data \n",
    "clean_df = pd.read_csv('clean_df.csv')\n",
    "\n",
    "clean_df = clean_df.drop(columns = ['Unnamed: 0'])\n",
    "\n",
    "\n",
    "# Instantiate a new scaler\n",
    "scaler = StandardScaler()\n",
    "#.invert_transform\n",
    "\n",
    "# scaling for STD \n",
    "scaler.fit(clean_df)\n",
    "#scaler.invert_transform(scaled_df)\n",
    "\n",
    "\n",
    "#Apply the scale to all the data \n",
    "scaled_df = scaler.transform(clean_df)\n",
    "\n",
    "\n",
    "scaled_df = pd.DataFrame(scaled_df,\n",
    "                              columns=clean_df.columns,\n",
    "                              index=clean_df.index)\n",
    "scaled_df.head()"
   ]
  },
  {
   "cell_type": "markdown",
   "metadata": {},
   "source": [
    "# Regressions"
   ]
  },
  {
   "cell_type": "code",
   "execution_count": 7,
   "metadata": {},
   "outputs": [
    {
     "name": "stdout",
     "output_type": "stream",
     "text": [
      "DummyRegressor()\n",
      "0.0\n",
      "[-2.04273285e-17 -2.04273285e-17 -2.04273285e-17 ... -2.04273285e-17\n",
      " -2.04273285e-17 -2.04273285e-17]\n",
      "<bound method Series.mean of 0       -1.11572\n",
      "1        0.20606\n",
      "2       -1.29093\n",
      "3        0.48204\n",
      "4        0.08897\n",
      "          ...   \n",
      "19474   -0.53825\n",
      "19475   -0.37099\n",
      "19476   -0.36221\n",
      "19477   -0.37099\n",
      "19478   -0.68461\n",
      "Name: price, Length: 19479, dtype: float64>\n",
      "0       -1.11572\n",
      "1        0.20606\n",
      "2       -1.29093\n",
      "3        0.48204\n",
      "4        0.08897\n",
      "          ...   \n",
      "19474   -0.53825\n",
      "19475   -0.37099\n",
      "19476   -0.36221\n",
      "19477   -0.37099\n",
      "19478   -0.68461\n",
      "Name: price, Length: 19479, dtype: float64\n"
     ]
    }
   ],
   "source": [
    "import numpy as np\n",
    "from sklearn.dummy import DummyRegressor\n",
    "\n",
    "dummymodel = DummyRegressor(strategy = 'mean')\n",
    "\n",
    "X = scaled_df.drop(labels = ['grade_num', 'price'], axis=1)\n",
    "y = scaled_df.price\n",
    "\n",
    "print(dummymodel.fit(X,y))\n",
    "\n",
    "print(dummymodel.score(X,y))\n",
    "\n",
    "y_pred = dummymodel.predict(X)\n",
    "\n",
    "print(y_pred)\n",
    "\n",
    "print(y.mean)\n",
    "\n",
    "print(y - y_pred)"
   ]
  },
  {
   "cell_type": "code",
   "execution_count": 8,
   "metadata": {},
   "outputs": [
    {
     "name": "stdout",
     "output_type": "stream",
     "text": [
      "                            OLS Regression Results                            \n",
      "==============================================================================\n",
      "Dep. Variable:                  price   R-squared:                       0.441\n",
      "Model:                            OLS   Adj. R-squared:                  0.441\n",
      "Method:                 Least Squares   F-statistic:                     7670.\n",
      "Date:                Thu, 15 Sep 2022   Prob (F-statistic):               0.00\n",
      "Time:                        08:31:11   Log-Likelihood:                -21982.\n",
      "No. Observations:               19479   AIC:                         4.397e+04\n",
      "Df Residuals:                   19476   BIC:                         4.399e+04\n",
      "Df Model:                           2                                         \n",
      "Covariance Type:            nonrobust                                         \n",
      "===============================================================================\n",
      "                  coef    std err          t      P>|t|      [0.025      0.975]\n",
      "-------------------------------------------------------------------------------\n",
      "Intercept    -3.89e-18      0.005  -7.26e-16      1.000      -0.011       0.011\n",
      "grade_num       0.3704      0.007     49.773      0.000       0.356       0.385\n",
      "sqft_living     0.3508      0.007     47.142      0.000       0.336       0.365\n",
      "==============================================================================\n",
      "Omnibus:                     3812.448   Durbin-Watson:                   1.955\n",
      "Prob(Omnibus):                  0.000   Jarque-Bera (JB):             9139.157\n",
      "Skew:                           1.098   Prob(JB):                         0.00\n",
      "Kurtosis:                       5.538   Cond. No.                         2.35\n",
      "==============================================================================\n",
      "\n",
      "Notes:\n",
      "[1] Standard Errors assume that the covariance matrix of the errors is correctly specified.\n"
     ]
    }
   ],
   "source": [
    "#bivariate model \n",
    "X6a = scaled_df[['grade_num','sqft_living']]\n",
    "X6a = sm.add_constant(X)\n",
    "y6a = scaled_df['price']\n",
    "\n",
    "model6 = ols('price ~ grade_num + sqft_living', data=scaled_df)\n",
    "model6_results = model6.fit()\n",
    "print(model6_results.summary())\n",
    "\n",
    "#the Durbin-Watson score is 1.955, meaning that autocorrelation is likley not a cause for concern here. therefore the independence assumptions has been met. \n",
    "params = model6_results.params\n",
    "#model6_results.predict(exog= \"grade_num + sqft_living\"))\n",
    "    \n",
    "     #y_hat\n",
    "#y-true(price) - y_hat --> sqaure that --> root that \n",
    "#RMSE is off by so many errors "
   ]
  },
  {
   "cell_type": "code",
   "execution_count": 9,
   "metadata": {},
   "outputs": [
    {
     "name": "stdout",
     "output_type": "stream",
     "text": [
      "                            OLS Regression Results                            \n",
      "==============================================================================\n",
      "Dep. Variable:                  price   R-squared:                       0.520\n",
      "Model:                            OLS   Adj. R-squared:                  0.519\n",
      "Method:                 Least Squares   F-statistic:                     3510.\n",
      "Date:                Thu, 15 Sep 2022   Prob (F-statistic):               0.00\n",
      "Time:                        08:32:08   Log-Likelihood:                -20499.\n",
      "No. Observations:               19479   AIC:                         4.101e+04\n",
      "Df Residuals:                   19472   BIC:                         4.107e+04\n",
      "Df Model:                           6                                         \n",
      "Covariance Type:            nonrobust                                         \n",
      "=================================================================================\n",
      "                    coef    std err          t      P>|t|      [0.025      0.975]\n",
      "---------------------------------------------------------------------------------\n",
      "Intercept     -1.863e-17      0.005  -3.75e-15      1.000      -0.010       0.010\n",
      "grade_num         0.3465      0.007     46.406      0.000       0.332       0.361\n",
      "sqft_living       0.3996      0.010     40.498      0.000       0.380       0.419\n",
      "Waterfront        0.0903      0.005     18.158      0.000       0.081       0.100\n",
      "sqft_living15     0.1902      0.008     24.149      0.000       0.175       0.206\n",
      "sqft_above       -0.1421      0.010    -14.763      0.000      -0.161      -0.123\n",
      "zip_city          0.2456      0.005     45.689      0.000       0.235       0.256\n",
      "==============================================================================\n",
      "Omnibus:                     3717.740   Durbin-Watson:                   1.950\n",
      "Prob(Omnibus):                  0.000   Jarque-Bera (JB):             9725.191\n",
      "Skew:                           1.040   Prob(JB):                         0.00\n",
      "Kurtosis:                       5.766   Cond. No.                         4.51\n",
      "==============================================================================\n",
      "\n",
      "Notes:\n",
      "[1] Standard Errors assume that the covariance matrix of the errors is correctly specified.\n"
     ]
    }
   ],
   "source": [
    "#model 24 \n",
    "# same as model 23 but dropping floors \n",
    "# mulit: price & grade_num + swft_liv + water + zip + sqftliv15 + sqftabove \n",
    "X = scaled_df[['grade_num', 'sqft_living', 'Waterfront', 'sqft_living15', 'sqft_above', 'zip_city']]\n",
    "X = sm.add_constant(X)\n",
    "y = scaled_df['price']\n",
    "\n",
    "model24 = ols('price ~  grade_num + sqft_living + Waterfront + sqft_living15 + sqft_above + zip_city', data=scaled_df)\n",
    "model24_results = model24.fit()\n",
    "print(model24_results.summary())\n",
    "\n",
    "#best R-sqaured so far!!\n",
    "#the Durbin-Watson score is 1.950, meaning that autocorrelation is likley not a cause for concern here. therefore the independence assumptions has been met. "
   ]
  },
  {
   "cell_type": "markdown",
   "metadata": {},
   "source": [
    "# Train Test Split Attempt\n",
    "code from https://builtin.com/data-science/train-test-split"
   ]
  },
  {
   "cell_type": "code",
   "execution_count": 22,
   "metadata": {},
   "outputs": [
    {
     "data": {
      "text/html": [
       "<div>\n",
       "<style scoped>\n",
       "    .dataframe tbody tr th:only-of-type {\n",
       "        vertical-align: middle;\n",
       "    }\n",
       "\n",
       "    .dataframe tbody tr th {\n",
       "        vertical-align: top;\n",
       "    }\n",
       "\n",
       "    .dataframe thead th {\n",
       "        text-align: right;\n",
       "    }\n",
       "</style>\n",
       "<table border=\"1\" class=\"dataframe\">\n",
       "  <thead>\n",
       "    <tr style=\"text-align: right;\">\n",
       "      <th></th>\n",
       "      <th>price</th>\n",
       "      <th>bedrooms</th>\n",
       "      <th>bathrooms</th>\n",
       "      <th>sqft_living</th>\n",
       "      <th>sqft_lot</th>\n",
       "      <th>floors</th>\n",
       "      <th>sqft_above</th>\n",
       "      <th>sqft_living15</th>\n",
       "      <th>sqft_lot15</th>\n",
       "      <th>grade_num</th>\n",
       "      <th>bed_bath_ratio</th>\n",
       "      <th>mean_price</th>\n",
       "      <th>id</th>\n",
       "      <th>zip_city</th>\n",
       "      <th>Waterfront</th>\n",
       "    </tr>\n",
       "  </thead>\n",
       "  <tbody>\n",
       "    <tr>\n",
       "      <th>0</th>\n",
       "      <td>221900.00000</td>\n",
       "      <td>3.00000</td>\n",
       "      <td>1.00000</td>\n",
       "      <td>1180.00000</td>\n",
       "      <td>5650.00000</td>\n",
       "      <td>1.00000</td>\n",
       "      <td>1180.00000</td>\n",
       "      <td>1340.00000</td>\n",
       "      <td>5650.00000</td>\n",
       "      <td>7.00000</td>\n",
       "      <td>3.00000</td>\n",
       "      <td>540296.57351</td>\n",
       "      <td>7129300520</td>\n",
       "      <td>1</td>\n",
       "      <td>0</td>\n",
       "    </tr>\n",
       "    <tr>\n",
       "      <th>1</th>\n",
       "      <td>538000.00000</td>\n",
       "      <td>3.00000</td>\n",
       "      <td>2.25000</td>\n",
       "      <td>2570.00000</td>\n",
       "      <td>7242.00000</td>\n",
       "      <td>2.00000</td>\n",
       "      <td>2170.00000</td>\n",
       "      <td>1690.00000</td>\n",
       "      <td>7639.00000</td>\n",
       "      <td>7.00000</td>\n",
       "      <td>1.33333</td>\n",
       "      <td>540296.57351</td>\n",
       "      <td>6414100192</td>\n",
       "      <td>1</td>\n",
       "      <td>0</td>\n",
       "    </tr>\n",
       "    <tr>\n",
       "      <th>2</th>\n",
       "      <td>180000.00000</td>\n",
       "      <td>2.00000</td>\n",
       "      <td>1.00000</td>\n",
       "      <td>770.00000</td>\n",
       "      <td>10000.00000</td>\n",
       "      <td>1.00000</td>\n",
       "      <td>770.00000</td>\n",
       "      <td>2720.00000</td>\n",
       "      <td>8062.00000</td>\n",
       "      <td>6.00000</td>\n",
       "      <td>2.00000</td>\n",
       "      <td>540296.57351</td>\n",
       "      <td>5631500400</td>\n",
       "      <td>0</td>\n",
       "      <td>0</td>\n",
       "    </tr>\n",
       "    <tr>\n",
       "      <th>3</th>\n",
       "      <td>604000.00000</td>\n",
       "      <td>4.00000</td>\n",
       "      <td>3.00000</td>\n",
       "      <td>1960.00000</td>\n",
       "      <td>5000.00000</td>\n",
       "      <td>1.00000</td>\n",
       "      <td>1050.00000</td>\n",
       "      <td>1360.00000</td>\n",
       "      <td>5000.00000</td>\n",
       "      <td>7.00000</td>\n",
       "      <td>1.33333</td>\n",
       "      <td>540296.57351</td>\n",
       "      <td>2487200875</td>\n",
       "      <td>1</td>\n",
       "      <td>0</td>\n",
       "    </tr>\n",
       "    <tr>\n",
       "      <th>4</th>\n",
       "      <td>510000.00000</td>\n",
       "      <td>3.00000</td>\n",
       "      <td>2.00000</td>\n",
       "      <td>1680.00000</td>\n",
       "      <td>8080.00000</td>\n",
       "      <td>1.00000</td>\n",
       "      <td>1680.00000</td>\n",
       "      <td>1800.00000</td>\n",
       "      <td>7503.00000</td>\n",
       "      <td>8.00000</td>\n",
       "      <td>1.50000</td>\n",
       "      <td>540296.57351</td>\n",
       "      <td>1954400510</td>\n",
       "      <td>0</td>\n",
       "      <td>0</td>\n",
       "    </tr>\n",
       "  </tbody>\n",
       "</table>\n",
       "</div>"
      ],
      "text/plain": [
       "         price  bedrooms  bathrooms  sqft_living    sqft_lot  floors  \\\n",
       "0 221900.00000   3.00000    1.00000   1180.00000  5650.00000 1.00000   \n",
       "1 538000.00000   3.00000    2.25000   2570.00000  7242.00000 2.00000   \n",
       "2 180000.00000   2.00000    1.00000    770.00000 10000.00000 1.00000   \n",
       "3 604000.00000   4.00000    3.00000   1960.00000  5000.00000 1.00000   \n",
       "4 510000.00000   3.00000    2.00000   1680.00000  8080.00000 1.00000   \n",
       "\n",
       "   sqft_above  sqft_living15  sqft_lot15  grade_num  bed_bath_ratio  \\\n",
       "0  1180.00000     1340.00000  5650.00000    7.00000         3.00000   \n",
       "1  2170.00000     1690.00000  7639.00000    7.00000         1.33333   \n",
       "2   770.00000     2720.00000  8062.00000    6.00000         2.00000   \n",
       "3  1050.00000     1360.00000  5000.00000    7.00000         1.33333   \n",
       "4  1680.00000     1800.00000  7503.00000    8.00000         1.50000   \n",
       "\n",
       "    mean_price          id  zip_city  Waterfront  \n",
       "0 540296.57351  7129300520         1           0  \n",
       "1 540296.57351  6414100192         1           0  \n",
       "2 540296.57351  5631500400         0           0  \n",
       "3 540296.57351  2487200875         1           0  \n",
       "4 540296.57351  1954400510         0           0  "
      ]
     },
     "execution_count": 22,
     "metadata": {},
     "output_type": "execute_result"
    }
   ],
   "source": [
    "clean_df.head()"
   ]
  },
  {
   "cell_type": "code",
   "execution_count": 57,
   "metadata": {},
   "outputs": [],
   "source": [
    "#using the same features/predictors from model 24\n",
    "\n",
    "features = ['sqft_living','sqft_above', 'sqft_living15', 'grade_num', 'zip_city', 'Waterfront']\n",
    "X = clean_df.loc[:, features]\n",
    "y = clean_df.loc[:, ['price']]"
   ]
  },
  {
   "cell_type": "code",
   "execution_count": 58,
   "metadata": {},
   "outputs": [],
   "source": [
    "X_train, X_test, y_train, y_test = train_test_split(X, y, random_state=0, train_size = .75)"
   ]
  },
  {
   "cell_type": "code",
   "execution_count": 59,
   "metadata": {},
   "outputs": [
    {
     "data": {
      "text/plain": [
       "(14609, 6)"
      ]
     },
     "execution_count": 59,
     "metadata": {},
     "output_type": "execute_result"
    }
   ],
   "source": [
    "X_train.shape"
   ]
  },
  {
   "cell_type": "code",
   "execution_count": 60,
   "metadata": {},
   "outputs": [
    {
     "data": {
      "text/plain": [
       "(4870, 6)"
      ]
     },
     "execution_count": 60,
     "metadata": {},
     "output_type": "execute_result"
    }
   ],
   "source": [
    "X_test.shape"
   ]
  },
  {
   "cell_type": "code",
   "execution_count": 61,
   "metadata": {},
   "outputs": [
    {
     "data": {
      "text/plain": [
       "(14609, 1)"
      ]
     },
     "execution_count": 61,
     "metadata": {},
     "output_type": "execute_result"
    }
   ],
   "source": [
    "y_train.shape"
   ]
  },
  {
   "cell_type": "code",
   "execution_count": 62,
   "metadata": {},
   "outputs": [
    {
     "data": {
      "text/plain": [
       "(4870, 1)"
      ]
     },
     "execution_count": 62,
     "metadata": {},
     "output_type": "execute_result"
    }
   ],
   "source": [
    "y_test.shape"
   ]
  },
  {
   "cell_type": "markdown",
   "metadata": {},
   "source": [
    "# Training the Model or the train? Model24"
   ]
  },
  {
   "cell_type": "code",
   "execution_count": 99,
   "metadata": {},
   "outputs": [],
   "source": [
    "main_model = LinearRegression()"
   ]
  },
  {
   "cell_type": "code",
   "execution_count": 100,
   "metadata": {},
   "outputs": [
    {
     "data": {
      "text/plain": [
       "LinearRegression()"
      ]
     },
     "execution_count": 100,
     "metadata": {},
     "output_type": "execute_result"
    }
   ],
   "source": [
    "main_model.fit(X_train, y_train)"
   ]
  },
  {
   "cell_type": "code",
   "execution_count": null,
   "metadata": {},
   "outputs": [],
   "source": []
  },
  {
   "cell_type": "code",
   "execution_count": 102,
   "metadata": {},
   "outputs": [
    {
     "data": {
      "text/plain": [
       "array([[168852.86920966],\n",
       "       [850903.04450094],\n",
       "       [570482.59235329],\n",
       "       [462683.78473836],\n",
       "       [432918.48295905],\n",
       "       [438498.71068271],\n",
       "       [315157.66401969],\n",
       "       [374456.41367795],\n",
       "       [507950.34212905],\n",
       "       [818879.26399739]])"
      ]
     },
     "execution_count": 102,
     "metadata": {},
     "output_type": "execute_result"
    }
   ],
   "source": [
    "main_model.predict(X_test[0:10])"
   ]
  },
  {
   "cell_type": "code",
   "execution_count": 103,
   "metadata": {},
   "outputs": [
    {
     "data": {
      "text/html": [
       "<div>\n",
       "<style scoped>\n",
       "    .dataframe tbody tr th:only-of-type {\n",
       "        vertical-align: middle;\n",
       "    }\n",
       "\n",
       "    .dataframe tbody tr th {\n",
       "        vertical-align: top;\n",
       "    }\n",
       "\n",
       "    .dataframe thead th {\n",
       "        text-align: right;\n",
       "    }\n",
       "</style>\n",
       "<table border=\"1\" class=\"dataframe\">\n",
       "  <thead>\n",
       "    <tr style=\"text-align: right;\">\n",
       "      <th></th>\n",
       "      <th>sqft_living</th>\n",
       "      <th>sqft_above</th>\n",
       "      <th>sqft_living15</th>\n",
       "      <th>grade_num</th>\n",
       "      <th>zip_city</th>\n",
       "      <th>Waterfront</th>\n",
       "    </tr>\n",
       "  </thead>\n",
       "  <tbody>\n",
       "    <tr>\n",
       "      <th>200</th>\n",
       "      <td>860.00000</td>\n",
       "      <td>860.00000</td>\n",
       "      <td>1300.00000</td>\n",
       "      <td>6.00000</td>\n",
       "      <td>0</td>\n",
       "      <td>0</td>\n",
       "    </tr>\n",
       "  </tbody>\n",
       "</table>\n",
       "</div>"
      ],
      "text/plain": [
       "     sqft_living  sqft_above  sqft_living15  grade_num  zip_city  Waterfront\n",
       "200    860.00000   860.00000     1300.00000    6.00000         0           0"
      ]
     },
     "execution_count": 103,
     "metadata": {},
     "output_type": "execute_result"
    }
   ],
   "source": [
    "X_test.head(1)"
   ]
  },
  {
   "cell_type": "code",
   "execution_count": 104,
   "metadata": {},
   "outputs": [
    {
     "data": {
      "text/plain": [
       "array([[168852.86920966]])"
      ]
     },
     "execution_count": 104,
     "metadata": {},
     "output_type": "execute_result"
    }
   ],
   "source": [
    "# predict 1 observation.\n",
    "main_model.predict(X_test.iloc[0].values.reshape(1,-1))\n",
    "\n",
    "#predicting the price for the house/row specifed in the x_test.head(1) column"
   ]
  },
  {
   "cell_type": "code",
   "execution_count": 105,
   "metadata": {},
   "outputs": [
    {
     "name": "stdout",
     "output_type": "stream",
     "text": [
      "0.5185992700767819\n"
     ]
    }
   ],
   "source": [
    "#r^squared\n",
    "score = main_model.score(X_test, y_test)\n",
    "print(score)"
   ]
  },
  {
   "cell_type": "code",
   "execution_count": 106,
   "metadata": {},
   "outputs": [
    {
     "data": {
      "text/plain": [
       "167125.71922849427"
      ]
     },
     "execution_count": 106,
     "metadata": {},
     "output_type": "execute_result"
    }
   ],
   "source": [
    "#insert RMSE HERE \n",
    "from sklearn import metrics\n",
    "\n",
    "metrics.mean_squared_error(y_test, main_model.predict(X_test), squared= False)\n"
   ]
  },
  {
   "cell_type": "markdown",
   "metadata": {},
   "source": [
    "# Hyper Parameters"
   ]
  },
  {
   "cell_type": "code",
   "execution_count": 77,
   "metadata": {},
   "outputs": [],
   "source": [
    "max_depth_range = list(range(1, 25))\n",
    "# List to store the average RMSE for each value of max_depth:\n",
    "r2_list = []\n",
    "for depth in max_depth_range:\n",
    "    reg = DecisionTreeRegressor(max_depth = depth,\n",
    "                            random_state = 0)\n",
    "    reg.fit(X_train, y_train)   \n",
    "    \n",
    "    score = reg.score(X_test, y_test)\n",
    "    r2_list.append(score)"
   ]
  },
  {
   "cell_type": "code",
   "execution_count": 78,
   "metadata": {},
   "outputs": [
    {
     "data": {
      "image/png": "[encoded data removed]",
      "text/plain": [
       "<Figure size 720x504 with 1 Axes>"
      ]
     },
     "metadata": {},
     "output_type": "display_data"
    }
   ],
   "source": [
    "fig, ax = plt.subplots(nrows = 1, ncols = 1,\n",
    "                       figsize = (10,7),\n",
    "                       facecolor = 'white');\n",
    "ax.plot(max_depth_range,\n",
    "       r2_list,\n",
    "       lw=2,\n",
    "       color='r')\n",
    "ax.set_xlim([1, max(max_depth_range)])\n",
    "ax.grid(True,\n",
    "       axis = 'both',\n",
    "       zorder = 0,\n",
    "       linestyle = ':',\n",
    "       color = 'k')\n",
    "ax.tick_params(labelsize = 18)\n",
    "ax.set_xlabel('max_depth', fontsize = 24)\n",
    "ax.set_ylabel('R^2', fontsize = 24)\n",
    "ax.set_title('Model Performance on Test Set', fontsize = 24)\n",
    "fig.tight_layout()"
   ]
  },
  {
   "cell_type": "code",
   "execution_count": 79,
   "metadata": {},
   "outputs": [
    {
     "data": {
      "text/plain": [
       "'\\nour r-sqaured came out at about .51\\nthe best posssible r-sqaured value for the model would be between .50 and .55 \\nto avoid data leakage, we will not use hyper paramters for our model, and favor the features we chose from model 24\\n\\n'"
      ]
     },
     "execution_count": 79,
     "metadata": {},
     "output_type": "execute_result"
    }
   ],
   "source": [
    "\"\"\"\n",
    "our r-sqaured came out at about .51\n",
    "the best posssible r-sqaured value for the model would be between .50 and .55 \n",
    "to avoid data leakage, we will not use hyper paramters for our model, and favor the features we chose from model 24\n",
    "for future analysis, we will devise a model that has an r-squared of .55 \n",
    "\n",
    "\"\"\""
   ]
  },
  {
   "cell_type": "markdown",
   "metadata": {},
   "source": [
    "# WHat we want to show to our stakeholders: given a house with these attributes, the price will be blank "
   ]
  },
  {
   "cell_type": "code",
   "execution_count": 83,
   "metadata": {},
   "outputs": [],
   "source": [
    "#reg.fit(X_train, y_train)\n",
    "\n",
    "X_test1 = X_test.copy()\n"
   ]
  },
  {
   "cell_type": "code",
   "execution_count": 87,
   "metadata": {},
   "outputs": [
    {
     "data": {
      "text/html": [
       "<div>\n",
       "<style scoped>\n",
       "    .dataframe tbody tr th:only-of-type {\n",
       "        vertical-align: middle;\n",
       "    }\n",
       "\n",
       "    .dataframe tbody tr th {\n",
       "        vertical-align: top;\n",
       "    }\n",
       "\n",
       "    .dataframe thead th {\n",
       "        text-align: right;\n",
       "    }\n",
       "</style>\n",
       "<table border=\"1\" class=\"dataframe\">\n",
       "  <thead>\n",
       "    <tr style=\"text-align: right;\">\n",
       "      <th></th>\n",
       "      <th>sqft_living</th>\n",
       "      <th>grade_num</th>\n",
       "      <th>Waterfront</th>\n",
       "      <th>sqft_living15</th>\n",
       "      <th>sqft_above</th>\n",
       "      <th>zip_city</th>\n",
       "    </tr>\n",
       "  </thead>\n",
       "  <tbody>\n",
       "    <tr>\n",
       "      <th>0</th>\n",
       "      <td>2080</td>\n",
       "      <td>7</td>\n",
       "      <td>0</td>\n",
       "      <td>1905</td>\n",
       "      <td>1675</td>\n",
       "      <td>0</td>\n",
       "    </tr>\n",
       "  </tbody>\n",
       "</table>\n",
       "</div>"
      ],
      "text/plain": [
       "   sqft_living  grade_num  Waterfront  sqft_living15  sqft_above  zip_city\n",
       "0         2080          7           0           1905        1675         0"
      ]
     },
     "execution_count": 87,
     "metadata": {},
     "output_type": "execute_result"
    }
   ],
   "source": [
    "# making a fake data frame \n",
    "example_sq_live = [2080]\n",
    "example_data = pd.DataFrame(example_sq_live, columns=['sqft_living'])\n",
    "example_grade = [7]\n",
    "example_data['grade_num'] = example_grade \n",
    "example_water = [0]\n",
    "example_data['Waterfront'] = example_water \n",
    "example_liv15 = [1905]\n",
    "example_data[\"sqft_living15\"] = example_liv15\n",
    "example_above = [1675]\n",
    "example_data[\"sqft_above\"] = example_above\n",
    "example_zip = [0]\n",
    "example_data[\"zip_city\"] = example_zip \n",
    "example_data\n"
   ]
  },
  {
   "cell_type": "code",
   "execution_count": 88,
   "metadata": {},
   "outputs": [
    {
     "data": {
      "text/html": [
       "<div>\n",
       "<style scoped>\n",
       "    .dataframe tbody tr th:only-of-type {\n",
       "        vertical-align: middle;\n",
       "    }\n",
       "\n",
       "    .dataframe tbody tr th {\n",
       "        vertical-align: top;\n",
       "    }\n",
       "\n",
       "    .dataframe thead th {\n",
       "        text-align: right;\n",
       "    }\n",
       "</style>\n",
       "<table border=\"1\" class=\"dataframe\">\n",
       "  <thead>\n",
       "    <tr style=\"text-align: right;\">\n",
       "      <th></th>\n",
       "      <th>index</th>\n",
       "      <th>sqft_living</th>\n",
       "      <th>grade_num</th>\n",
       "      <th>Waterfront</th>\n",
       "      <th>sqft_living15</th>\n",
       "      <th>sqft_above</th>\n",
       "      <th>zip_city</th>\n",
       "    </tr>\n",
       "  </thead>\n",
       "  <tbody>\n",
       "    <tr>\n",
       "      <th>0</th>\n",
       "      <td>0</td>\n",
       "      <td>2080.00000</td>\n",
       "      <td>7.00000</td>\n",
       "      <td>0</td>\n",
       "      <td>1905.00000</td>\n",
       "      <td>1675.00000</td>\n",
       "      <td>0</td>\n",
       "    </tr>\n",
       "    <tr>\n",
       "      <th>1</th>\n",
       "      <td>1</td>\n",
       "      <td>860.00000</td>\n",
       "      <td>6.00000</td>\n",
       "      <td>0</td>\n",
       "      <td>1300.00000</td>\n",
       "      <td>860.00000</td>\n",
       "      <td>0</td>\n",
       "    </tr>\n",
       "    <tr>\n",
       "      <th>2</th>\n",
       "      <td>2</td>\n",
       "      <td>3210.00000</td>\n",
       "      <td>10.00000</td>\n",
       "      <td>0</td>\n",
       "      <td>3330.00000</td>\n",
       "      <td>3210.00000</td>\n",
       "      <td>0</td>\n",
       "    </tr>\n",
       "    <tr>\n",
       "      <th>3</th>\n",
       "      <td>3</td>\n",
       "      <td>2420.00000</td>\n",
       "      <td>8.00000</td>\n",
       "      <td>0</td>\n",
       "      <td>2690.00000</td>\n",
       "      <td>2420.00000</td>\n",
       "      <td>0</td>\n",
       "    </tr>\n",
       "    <tr>\n",
       "      <th>4</th>\n",
       "      <td>4</td>\n",
       "      <td>2210.00000</td>\n",
       "      <td>7.00000</td>\n",
       "      <td>0</td>\n",
       "      <td>2110.00000</td>\n",
       "      <td>1450.00000</td>\n",
       "      <td>0</td>\n",
       "    </tr>\n",
       "    <tr>\n",
       "      <th>...</th>\n",
       "      <td>...</td>\n",
       "      <td>...</td>\n",
       "      <td>...</td>\n",
       "      <td>...</td>\n",
       "      <td>...</td>\n",
       "      <td>...</td>\n",
       "      <td>...</td>\n",
       "    </tr>\n",
       "    <tr>\n",
       "      <th>4866</th>\n",
       "      <td>4866</td>\n",
       "      <td>2110.00000</td>\n",
       "      <td>8.00000</td>\n",
       "      <td>0</td>\n",
       "      <td>1780.00000</td>\n",
       "      <td>2110.00000</td>\n",
       "      <td>0</td>\n",
       "    </tr>\n",
       "    <tr>\n",
       "      <th>4867</th>\n",
       "      <td>4867</td>\n",
       "      <td>1450.00000</td>\n",
       "      <td>9.00000</td>\n",
       "      <td>0</td>\n",
       "      <td>1620.00000</td>\n",
       "      <td>1110.00000</td>\n",
       "      <td>1</td>\n",
       "    </tr>\n",
       "    <tr>\n",
       "      <th>4868</th>\n",
       "      <td>4868</td>\n",
       "      <td>1780.00000</td>\n",
       "      <td>7.00000</td>\n",
       "      <td>0</td>\n",
       "      <td>1780.00000</td>\n",
       "      <td>1210.00000</td>\n",
       "      <td>0</td>\n",
       "    </tr>\n",
       "    <tr>\n",
       "      <th>4869</th>\n",
       "      <td>4869</td>\n",
       "      <td>2160.00000</td>\n",
       "      <td>7.00000</td>\n",
       "      <td>0</td>\n",
       "      <td>1880.00000</td>\n",
       "      <td>1460.00000</td>\n",
       "      <td>1</td>\n",
       "    </tr>\n",
       "    <tr>\n",
       "      <th>4870</th>\n",
       "      <td>4870</td>\n",
       "      <td>2780.00000</td>\n",
       "      <td>9.00000</td>\n",
       "      <td>0</td>\n",
       "      <td>2780.00000</td>\n",
       "      <td>2780.00000</td>\n",
       "      <td>0</td>\n",
       "    </tr>\n",
       "  </tbody>\n",
       "</table>\n",
       "<p>4871 rows × 7 columns</p>\n",
       "</div>"
      ],
      "text/plain": [
       "      index  sqft_living  grade_num  Waterfront  sqft_living15  sqft_above  \\\n",
       "0         0   2080.00000    7.00000           0     1905.00000  1675.00000   \n",
       "1         1    860.00000    6.00000           0     1300.00000   860.00000   \n",
       "2         2   3210.00000   10.00000           0     3330.00000  3210.00000   \n",
       "3         3   2420.00000    8.00000           0     2690.00000  2420.00000   \n",
       "4         4   2210.00000    7.00000           0     2110.00000  1450.00000   \n",
       "...     ...          ...        ...         ...            ...         ...   \n",
       "4866   4866   2110.00000    8.00000           0     1780.00000  2110.00000   \n",
       "4867   4867   1450.00000    9.00000           0     1620.00000  1110.00000   \n",
       "4868   4868   1780.00000    7.00000           0     1780.00000  1210.00000   \n",
       "4869   4869   2160.00000    7.00000           0     1880.00000  1460.00000   \n",
       "4870   4870   2780.00000    9.00000           0     2780.00000  2780.00000   \n",
       "\n",
       "      zip_city  \n",
       "0            0  \n",
       "1            0  \n",
       "2            0  \n",
       "3            0  \n",
       "4            0  \n",
       "...        ...  \n",
       "4866         0  \n",
       "4867         1  \n",
       "4868         0  \n",
       "4869         1  \n",
       "4870         0  \n",
       "\n",
       "[4871 rows x 7 columns]"
      ]
     },
     "execution_count": 88,
     "metadata": {},
     "output_type": "execute_result"
    }
   ],
   "source": [
    "\n",
    "df3 = pd.concat([example_data, X_test1], ignore_index = True)\n",
    "df3.reset_index()\n"
   ]
  },
  {
   "cell_type": "code",
   "execution_count": 113,
   "metadata": {},
   "outputs": [
    {
     "data": {
      "text/plain": [
       "array([[3.6283693e+08]])"
      ]
     },
     "execution_count": 113,
     "metadata": {},
     "output_type": "execute_result"
    }
   ],
   "source": [
    "\n",
    "main_model.predict(df3.iloc[0].values.reshape(1,-1))\n",
    "#THE PRICE FOR THE FAKE DATA"
   ]
  },
  {
   "cell_type": "markdown",
   "metadata": {},
   "source": [
    "# Model 6 Time!!! YAY!!! I AM SO HAPPY RN EVERYTHING IIS FINE OK"
   ]
  },
  {
   "cell_type": "code",
   "execution_count": 132,
   "metadata": {},
   "outputs": [],
   "source": [
    "features6 = ['sqft_living', 'grade_num']\n",
    "X6 = clean_df.loc[:, features6]\n",
    "y6 = clean_df.loc[:, ['price']]"
   ]
  },
  {
   "cell_type": "code",
   "execution_count": 133,
   "metadata": {},
   "outputs": [],
   "source": [
    "X_train6, X_test6, y_train6, y_test6 = train_test_split(X6, y6, random_state=0, train_size = .75)"
   ]
  },
  {
   "cell_type": "code",
   "execution_count": 134,
   "metadata": {},
   "outputs": [
    {
     "data": {
      "text/plain": [
       "(14609, 2)"
      ]
     },
     "execution_count": 134,
     "metadata": {},
     "output_type": "execute_result"
    }
   ],
   "source": [
    "X_train6.shape"
   ]
  },
  {
   "cell_type": "code",
   "execution_count": 135,
   "metadata": {},
   "outputs": [
    {
     "data": {
      "text/plain": [
       "(4870, 2)"
      ]
     },
     "execution_count": 135,
     "metadata": {},
     "output_type": "execute_result"
    }
   ],
   "source": [
    "X_test6.shape"
   ]
  },
  {
   "cell_type": "code",
   "execution_count": 136,
   "metadata": {},
   "outputs": [
    {
     "data": {
      "text/plain": [
       "(4870, 1)"
      ]
     },
     "execution_count": 136,
     "metadata": {},
     "output_type": "execute_result"
    }
   ],
   "source": [
    "y_test6.shape"
   ]
  },
  {
   "cell_type": "code",
   "execution_count": 137,
   "metadata": {},
   "outputs": [
    {
     "data": {
      "text/plain": [
       "(14609, 1)"
      ]
     },
     "execution_count": 137,
     "metadata": {},
     "output_type": "execute_result"
    }
   ],
   "source": [
    "y_train6.shape"
   ]
  },
  {
   "cell_type": "code",
   "execution_count": 138,
   "metadata": {},
   "outputs": [
    {
     "data": {
      "text/plain": [
       "LinearRegression()"
      ]
     },
     "execution_count": 138,
     "metadata": {},
     "output_type": "execute_result"
    }
   ],
   "source": [
    "model6 = LinearRegression()\n",
    "model6.fit(X_train6, y_train6)"
   ]
  },
  {
   "cell_type": "code",
   "execution_count": 139,
   "metadata": {},
   "outputs": [
    {
     "data": {
      "text/plain": [
       "array([[225286.48206744],\n",
       "       [854758.948391  ],\n",
       "       [584688.16003974],\n",
       "       [471115.38220164],\n",
       "       [446752.41230499],\n",
       "       [474015.73576077],\n",
       "       [351620.81556569],\n",
       "       [428190.14952659],\n",
       "       [486076.13902949],\n",
       "       [832837.34302125]])"
      ]
     },
     "execution_count": 139,
     "metadata": {},
     "output_type": "execute_result"
    }
   ],
   "source": [
    "model6.predict(X_test6[0:10])"
   ]
  },
  {
   "cell_type": "code",
   "execution_count": 140,
   "metadata": {},
   "outputs": [
    {
     "data": {
      "text/plain": [
       "array([[225286.48206744]])"
      ]
     },
     "execution_count": 140,
     "metadata": {},
     "output_type": "execute_result"
    }
   ],
   "source": [
    "model6.predict(X_test6.iloc[0].values.reshape(1,-1))"
   ]
  },
  {
   "cell_type": "code",
   "execution_count": 141,
   "metadata": {},
   "outputs": [
    {
     "name": "stdout",
     "output_type": "stream",
     "text": [
      "0.4311121678343248\n"
     ]
    }
   ],
   "source": [
    "#r^squared\n",
    "score6 = model6.score(X_test6, y_test6)\n",
    "print(score6)"
   ]
  },
  {
   "cell_type": "code",
   "execution_count": 142,
   "metadata": {},
   "outputs": [
    {
     "data": {
      "text/plain": [
       "181678.3761404355"
      ]
     },
     "execution_count": 142,
     "metadata": {},
     "output_type": "execute_result"
    }
   ],
   "source": [
    "#RMSE\n",
    "\n",
    "metrics.mean_squared_error(y_test6, model6.predict(X_test6), squared= False)"
   ]
  },
  {
   "cell_type": "markdown",
   "metadata": {},
   "source": [
    "# Graphing bc you people cant read or write \n",
    "# model 24"
   ]
  },
  {
   "cell_type": "code",
   "execution_count": 147,
   "metadata": {},
   "outputs": [
    {
     "data": {
      "image/png": "[encoded data removed]",
      "text/plain": [
       "<Figure size 432x288 with 1 Axes>"
      ]
     },
     "metadata": {
      "needs_background": "light"
     },
     "output_type": "display_data"
    }
   ],
   "source": [
    "#need to graph y_hat vs y_observed or whatever that means \n",
    "#model 24\n",
    "y_hat = main_model.predict(X_test)\n",
    "y = y_test \n",
    "\n",
    "fig, ax = plt.subplots()\n",
    "ax.scatter(x=y_hat, y=y_test)\n",
    "ax.set_xlabel(\"Predicted Values for Best Model\")\n",
    "ax.set_ylabel(\"Observed Values for Best Model\")\n",
    "ax.set_title('Residuals For Best Model')\n",
    "fig.tight_layout()"
   ]
  },
  {
   "cell_type": "code",
   "execution_count": 148,
   "metadata": {},
   "outputs": [
    {
     "data": {
      "image/png": "[encoded data removed]",
      "text/plain": [
       "<Figure size 432x288 with 1 Axes>"
      ]
     },
     "metadata": {
      "needs_background": "light"
     },
     "output_type": "display_data"
    }
   ],
   "source": [
    "#model 6 \n",
    "y_hat = model6.predict(X_test6)\n",
    "y = y_test6 \n",
    "\n",
    "fig, ax = plt.subplots()\n",
    "ax.scatter(x=y_hat, y=y_test)\n",
    "ax.set_xlabel(\"Predicted Values for Bivariate Model\")\n",
    "ax.set_ylabel(\"Observed Values for Bivariate Model\")\n",
    "ax.set_title('Residuals For Bivariate Model')\n",
    "fig.tight_layout()"
   ]
  },
  {
   "cell_type": "code",
   "execution_count": 149,
   "metadata": {},
   "outputs": [
    {
     "data": {
      "text/plain": [
       "488722.09102109965"
      ]
     },
     "execution_count": 149,
     "metadata": {},
     "output_type": "execute_result"
    }
   ],
   "source": [
    "clean_df['price'].mean()"
   ]
  },
  {
   "cell_type": "markdown",
   "metadata": {},
   "source": [
    "# EDA VIZ"
   ]
  },
  {
   "cell_type": "code",
   "execution_count": 155,
   "metadata": {},
   "outputs": [
    {
     "data": {
      "text/plain": [
       "<AxesSubplot:xlabel='grade_num', ylabel='price'>"
      ]
     },
     "execution_count": 155,
     "metadata": {},
     "output_type": "execute_result"
    },
    {
     "data": {
      "image/png": "[encoded data removed]",
      "text/plain": [
       "<Figure size 432x288 with 1 Axes>"
      ]
     },
     "metadata": {
      "needs_background": "light"
     },
     "output_type": "display_data"
    }
   ],
   "source": [
    "#grade num\n",
    "\n",
    "\n",
    "\n",
    "sns.barplot(data=clean_df, x=\"grade_num\", y=\"price\")\n"
   ]
  },
  {
   "cell_type": "code",
   "execution_count": null,
   "metadata": {},
   "outputs": [],
   "source": [
    "#sqft living \n",
    "sns.barplot(data=clean_df, x=\"sqft_living\", y=\"price\")"
   ]
  },
  {
   "cell_type": "code",
   "execution_count": null,
   "metadata": {},
   "outputs": [],
   "source": [
    "#zip_city\n",
    "clean_df.head()"
   ]
  },
  {
   "cell_type": "code",
   "execution_count": 153,
   "metadata": {},
   "outputs": [],
   "source": [
    "#sqft_living15"
   ]
  },
  {
   "cell_type": "code",
   "execution_count": 154,
   "metadata": {},
   "outputs": [],
   "source": [
    "#sqft_above"
   ]
  },
  {
   "cell_type": "code",
   "execution_count": null,
   "metadata": {},
   "outputs": [],
   "source": [
    "#water front"
   ]
  }
 ],
 "metadata": {
  "kernelspec": {
   "display_name": "Python (learn-env)",
   "language": "python",
   "name": "learn-env"
  },
  "language_info": {
   "codemirror_mode": {
    "name": "ipython",
    "version": 3
   },
   "file_extension": ".py",
   "mimetype": "text/x-python",
   "name": "python",
   "nbconvert_exporter": "python",
   "pygments_lexer": "ipython3",
   "version": "3.8.5"
  }
 },
 "nbformat": 4,
 "nbformat_minor": 4
}
